{
 "cells": [
  {
   "cell_type": "code",
   "execution_count": 8,
   "metadata": {},
   "outputs": [],
   "source": [
    "#Rock paper scissors\n",
    "import random\n",
    "\n",
    "def rock_per_scissors():\n",
    "    print(\"let's play rock paper scissors!\\n\") \n",
    "    \n",
    "    r = \"rock\"\n",
    "    p = \"paper\"\n",
    "    s = \"scissors\"\n",
    "    \n",
    "    all_choices = (r,p,s)                                        \n",
    "\n",
    "    user = input(f\"enter a choice ({r}, {p}, {s}):\")\n",
    "\n",
    "    if user not in all_choices:\n",
    "        print(\"\\Invalid choice!\")\n",
    "        return\n",
    "    \n",
    "    computer = random.choice(all_choices)\n",
    "    print(f'you chose {user}, computer chose {computer}.')\n",
    "\n",
    "    #r>s, p>r s>p\n",
    "    if user == computer:\n",
    "\n",
    "        print(\"Tie\\n\")\n",
    "    elif (\n",
    "        (user == r and  computer == s)\n",
    "        or (user ==p and computer == r)\n",
    "        or (user == s and computer == p)\n",
    "\n",
    "    ):\n",
    "        print(\"You win\\n\")\n",
    "\n",
    "    else:\n",
    "        print(\"You lose!\\n\")"
   ]
  },
  {
   "cell_type": "code",
   "execution_count": 13,
   "metadata": {},
   "outputs": [
    {
     "name": "stdout",
     "output_type": "stream",
     "text": [
      "let's play rock paper scissors!\n",
      "\n",
      "you chose paper, computer chose paper.\n",
      "Tie\n",
      "\n"
     ]
    }
   ],
   "source": [
    "rock_per_scissors()"
   ]
  },
  {
   "cell_type": "code",
   "execution_count": 15,
   "metadata": {},
   "outputs": [
    {
     "name": "stdout",
     "output_type": "stream",
     "text": [
      "I thought I added content...so long felas\n",
      "\n"
     ]
    }
   ],
   "source": [
    "# Using context manager to open a file \n",
    "##DONT DO THIS ❌\n",
    "f = open(f'file.txt', 'r')\n",
    "content = f.read()\n",
    "f.close()\n",
    "\n",
    "print(content)\n"
   ]
  },
  {
   "cell_type": "code",
   "execution_count": 16,
   "metadata": {},
   "outputs": [
    {
     "name": "stdout",
     "output_type": "stream",
     "text": [
      "I thought I added content...so long felas\n",
      "\n"
     ]
    }
   ],
   "source": [
    "#DO THIS✅\n",
    "with open('file.txt', 'r') as f:\n",
    "    content = f.read()\n",
    "\n",
    "print(content)"
   ]
  },
  {
   "cell_type": "code",
   "execution_count": 14,
   "metadata": {},
   "outputs": [],
   "source": [
    "#genereate random password\n",
    "import secrets\n",
    "import string\n",
    "\n",
    "alphabet = string.ascii_letters + string.digits\n",
    "password = \" \".join(secrets.choice(alphabet) for i in range(8))\n",
    "\n",
    "#generate password recovery token\n",
    "import secrets\n",
    "\n",
    "url = f'https://johndoe.com/reset-password/?token={secrets.token_urlsafe()}'"
   ]
  }
 ],
 "metadata": {
  "kernelspec": {
   "display_name": "Python 3.10.8 64-bit",
   "language": "python",
   "name": "python3"
  },
  "language_info": {
   "codemirror_mode": {
    "name": "ipython",
    "version": 3
   },
   "file_extension": ".py",
   "mimetype": "text/x-python",
   "name": "python",
   "nbconvert_exporter": "python",
   "pygments_lexer": "ipython3",
   "version": "3.10.8"
  },
  "orig_nbformat": 4,
  "vscode": {
   "interpreter": {
    "hash": "aee8b7b246df8f9039afb4144a1f6fd8d2ca17a180786b69acc140d282b71a49"
   }
  }
 },
 "nbformat": 4,
 "nbformat_minor": 2
}
